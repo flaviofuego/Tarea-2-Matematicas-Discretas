{
  "nbformat": 4,
  "nbformat_minor": 0,
  "metadata": {
    "colab": {
      "provenance": []
    },
    "kernelspec": {
      "name": "python3",
      "display_name": "Python 3"
    },
    "language_info": {
      "name": "python"
    }
  },
  "cells": [
    {
      "cell_type": "code",
      "source": [
        "def DFS(graph, v, visited):\n",
        "    visited[v] = True\n",
        "    for i in graph[v]:\n",
        "        if not visited[i]:\n",
        "            DFS(graph, i, visited)\n",
        "\n",
        "def isEulerian(graph):\n",
        "    V = len(graph)\n",
        "    visited = [False] * V\n",
        "    for i in range(V):\n",
        "        if len(graph[i]) % 2 != 0:\n",
        "            return False\n",
        "    DFS(graph, 0, visited)\n",
        "    for i in range(V):\n",
        "        if not visited[i] and len(graph[i]) > 0:\n",
        "            return False\n",
        "    return True\n",
        "\n",
        "def fleury(graph):\n",
        "    if not isEulerian(graph):\n",
        "        return \"El grafo no es Euleriano\"\n",
        "\n",
        "    # Crear una copia del grafo para evitar modificar el grafo original\n",
        "    graph_copy = [list(adj) for adj in graph]\n",
        "\n",
        "    V = len(graph)\n",
        "    edge_count = sum([len(i) for i in graph]) // 2\n",
        "    curr_path = [0] * (edge_count + 1)\n",
        "    curr_path[0] = 0\n",
        "    curr_pos = 0\n",
        "    circuit = []\n",
        "\n",
        "    while curr_pos >= 0:\n",
        "        if len(graph_copy[curr_path[curr_pos]]) > 0:\n",
        "            next_vertex = graph_copy[curr_path[curr_pos]].pop()\n",
        "            curr_pos += 1\n",
        "            if curr_pos == len(curr_path):\n",
        "                curr_path.append(next_vertex)\n",
        "            else:\n",
        "                curr_path[curr_pos] = next_vertex\n",
        "        else:\n",
        "            circuit.append(curr_path[curr_pos])\n",
        "            curr_pos -= 1\n",
        "\n",
        "    return circuit[::-1]\n",
        "\n",
        "\n",
        "# Solicitar al usuario que introduzca el grafo\n",
        "vertices = int(input(\"Introduce el número de vértices en el grafo: \"))\n",
        "graph = [[] for _ in range(vertices)]\n",
        "\n",
        "edges = int(input(\"Introduce el número de aristas en el grafo: \"))\n",
        "for _ in range(edges):\n",
        "    edge = input(\"Introduce una arista en el formato 'a b' (Por ejemplo, 1 2 separados por un espacio): \")\n",
        "    a, b = map(int, edge.split())\n",
        "    graph[a].append(b)\n",
        "    graph[b].append(a)\n",
        "\n",
        "if isEulerian(graph):\n",
        "    print(\"El grafo es Euleriano\")\n",
        "else:\n",
        "    print(\"El grafo no es Euleriano\")\n",
        "\n",
        "print(\"Circuito Euleriano:\", fleury(graph))\n"
      ],
      "metadata": {
        "colab": {
          "base_uri": "https://localhost:8080/"
        },
        "id": "76JR_RM2wFvF",
        "outputId": "ccd8bd1a-94dc-4852-9136-d1d8ceba9f56"
      },
      "execution_count": 1,
      "outputs": [
        {
          "output_type": "stream",
          "name": "stdout",
          "text": [
            "Introduce el número de vértices en el grafo: 8\n",
            "Introduce el número de aristas en el grafo: 8\n",
            "Introduce una arista en el formato 'a b' (Por ejemplo, 1 2 separados por un espacio): 0 1\n",
            "Introduce una arista en el formato 'a b' (Por ejemplo, 1 2 separados por un espacio): 1 2\n",
            "Introduce una arista en el formato 'a b' (Por ejemplo, 1 2 separados por un espacio): 2 3\n",
            "Introduce una arista en el formato 'a b' (Por ejemplo, 1 2 separados por un espacio): 3 4\n",
            "Introduce una arista en el formato 'a b' (Por ejemplo, 1 2 separados por un espacio): 4 5\n",
            "Introduce una arista en el formato 'a b' (Por ejemplo, 1 2 separados por un espacio): 5 6\n",
            "Introduce una arista en el formato 'a b' (Por ejemplo, 1 2 separados por un espacio): 6 7\n",
            "Introduce una arista en el formato 'a b' (Por ejemplo, 1 2 separados por un espacio): 7 0\n",
            "El grafo es Euleriano\n",
            "Circuito Euleriano: [0, 7, 0, 1, 2, 3, 4, 5, 6, 7, 6, 5, 4, 3, 2, 1, 0]\n"
          ]
        }
      ]
    }
  ]
}